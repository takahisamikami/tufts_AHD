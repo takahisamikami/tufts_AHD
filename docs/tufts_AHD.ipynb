{
 "cells": [
  {
   "cell_type": "code",
   "execution_count": null,
   "metadata": {},
   "outputs": [],
   "source": [
    "\n",
    "\n",
    "\n",
    "### tmikam01 -- home \n",
    "var='tufts_AHD'\n",
    "cd /Users/TakahisaMikami/drive/0.NeuroEducation/Tufts_education/AHD/AHD_participants\n",
    "echo \"# \" $var >> README.md\n",
    "git init \n",
    "echo \"/unnecessary\" >> .gitignore\n",
    "sh $software/gitignore_template.sh\n",
    "# hub create $var # did not work\n",
    "git remote add origin git@github.com:takahisamikami/$var.git\n",
    "git add .\n",
    "git commit -m \"Create repo\"\n",
    "git branch -M main\n",
    "git push -u origin main\n",
    "\n"
   ]
  }
 ],
 "metadata": {
  "language_info": {
   "name": "python"
  },
  "orig_nbformat": 4
 },
 "nbformat": 4,
 "nbformat_minor": 2
}
